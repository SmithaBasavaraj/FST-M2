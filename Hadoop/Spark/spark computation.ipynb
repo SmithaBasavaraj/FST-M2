{
 "cells": [
  {
   "cell_type": "code",
   "execution_count": null,
   "metadata": {},
   "outputs": [],
   "source": [
    "from pyspark.sql import SparkSessionspark = SparkSession.builder.appName('XML Processing').getOrCreate()\n",
    "df = spark.read.format('com.databricks.spark.xml').options(rowTag='Spark').load('C:\\Users\\smitha\\FSTM2\\Big Data\\Spark\\dataFile.xml')\n",
    "df.printSchema()df.show(5)\n",
    "root\n",
    " |-- yourRowTag: struct (nullable = true)\n",
    " |    |-- ...  // Schema details\n",
    "+------------+\n",
    "| yourRowTag |  // DataFrame rows\n",
    "+------------+\n",
    "|   ...      |\n",
    "|   ...      |\n",
    "|   ...      |\n",
    "+------------+\n",
    "spark.stop()"
   ]
  }
 ],
 "metadata": {
  "language_info": {
   "name": "python"
  }
 },
 "nbformat": 4,
 "nbformat_minor": 2
}
