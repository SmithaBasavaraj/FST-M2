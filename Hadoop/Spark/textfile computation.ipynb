{
 "cells": [
  {
   "cell_type": "code",
   "execution_count": null,
   "metadata": {},
   "outputs": [],
   "source": [
    "from pyspark.sql import SparkSessionspark = SparkSession.builder.appName('TexttoSpark').getOrCreate()\n",
    "data = spark.read.text('C:\\Users\\smitha\\FSTM2\\Big Data\\Spark\\dataFile.txt')\n",
    "data.show()\n",
    "+--------------------+\n",
    "|               value|\n",
    "+--------------------+\n",
    "|   This is line 1. |\n",
    "| This is line 2.   |\n",
    "|And here is line 3.|\n",
    "+--------------------+"
   ]
  }
 ],
 "metadata": {
  "language_info": {
   "name": "python"
  }
 },
 "nbformat": 4,
 "nbformat_minor": 2
}
