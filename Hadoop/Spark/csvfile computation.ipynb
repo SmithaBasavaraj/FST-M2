{
 "cells": [
  {
   "cell_type": "code",
   "execution_count": null,
   "metadata": {},
   "outputs": [],
   "source": [
    "from pyspark.sql import SparkSessionspark = SparkSession.builder.appName(\"YourAppName\").getOrCreate()\n",
    "df = spark.read.csv(\"C:\\Users\\smitha\\FSTM2\\Big Data\\Spark\\dataFile.csv\", header=True, inferSchema=True)\n",
    "processed_df = df.select(\"column1\", \"column2\").filter(df[\"column1\"] > 0)\n",
    "processed_df.write.csv(\"C:\\Users\\smitha\\FSTM2\\Big Data\\Spark\\outputFile.csv\")"
   ]
  }
 ],
 "metadata": {
  "language_info": {
   "name": "python"
  }
 },
 "nbformat": 4,
 "nbformat_minor": 2
}
