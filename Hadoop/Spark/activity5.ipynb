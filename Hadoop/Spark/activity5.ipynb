{
 "cells": [
  {
   "cell_type": "code",
   "execution_count": null,
   "metadata": {},
   "outputs": [],
   "source": [
    "from pyspark.sql import SparkSessionspark = SparkSession.builder.appName(\"Spark Hive Example\") \\\n",
    "    .config(\"spark.sql.warehouse.dir\", \"/user/hive/warehouse\") \\\n",
    "    .enableHiveSupport() \\\n",
    "    .getOrCreate()\n",
    "# Querying a Hive table\n",
    "df = spark.sql(\"SELECT * FROM your_hive_database.your_hive_table\")\n",
    "df.show()\n",
    "# Stopping the Spark session\n",
    "spark.stop()"
   ]
  }
 ],
 "metadata": {
  "language_info": {
   "name": "python"
  }
 },
 "nbformat": 4,
 "nbformat_minor": 2
}
