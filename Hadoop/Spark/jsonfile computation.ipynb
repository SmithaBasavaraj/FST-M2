{
 "cells": [
  {
   "cell_type": "code",
   "execution_count": null,
   "metadata": {},
   "outputs": [],
   "source": [
    "from pyspark.sql import SparkSessionspark = SparkSession.builder.appName('JSONtoSpark').getOrCreate()\n",
    "data = spark.read.json('C:\\Users\\smitha\\FSTM2\\Big Data\\Spark\\dataFile.json')\n",
    "data.show()\n",
    "+---+-----+\n",
    "|age| name|\n",
    "+---+-----+\n",
    "| 20|King|\n",
    "| 25|  Bob|\n",
    "+---+-----+"
   ]
  }
 ],
 "metadata": {
  "language_info": {
   "name": "python"
  }
 },
 "nbformat": 4,
 "nbformat_minor": 2
}
